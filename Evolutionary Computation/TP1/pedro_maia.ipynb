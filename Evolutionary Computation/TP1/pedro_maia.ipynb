{
 "cells": [
  {
   "cell_type": "markdown",
   "metadata": {},
   "source": [
    "# Trabalho Prático 1\n",
    "__Aluno:__ Pedro de Mendonça Maia\n",
    "\n",
    "__Matrícula:__ 2019699693\n",
    "\n",
    "__Disciplina:__ EEE882 - Computação Evolucionária\n",
    "\n",
    "__Professor:__ Frederico Gadelha Guimarães"
   ]
  },
  {
   "cell_type": "code",
   "execution_count": 1,
   "metadata": {},
   "outputs": [],
   "source": [
    "import numpy as np\n",
    "import math\n",
    "import time\n",
    "import matplotlib.pyplot as plt\n",
    "\n",
    "np.random.seed(1000)"
   ]
  },
  {
   "cell_type": "markdown",
   "metadata": {},
   "source": [
    "## Problema das *N* rainhas\n",
    "\n",
    "O problema das *N* rainhas consiste em posicionar *N* rainhas em um tabuleiro de xadrez de tamanho *NxN* de forma que nenhuma seja capaz de capturar outra. \n",
    "\n",
    "No xadrez, a rainha é capaz de mover um número ilimitado de casas verticalmente, horizontalmente ou nas diagonais. Dessa forma, a solução do problema não pode conter mais de uma rainha em cada linha ou cada coluna do tabuleiro. Além disso, é preciso checar se não há outra rainha nos movimentos diagonais de cada uma.\n",
    "\n",
    "Para a realização do trabalho, considerou-se *N*=8.\n",
    "\n",
    "### Codificação da solução\n",
    "\n",
    "Para representar uma solução candidata foi utilizada uma codificação de permutação, ou seja, cada indivíduo é representado por um vetor de *N* posições com valores inteiros distintos. Cada posição do vetor representa uma coluna do tabuleiro e cada valor indica a linha ocupada pela rainha daquela coluna. \n",
    "\n",
    "Um exemplo de solução é o vetor \\[3, 8, 5, 1, 2, 7, 4, 6\\]. Nesse caso, a rainha da primeira coluna ocupa a terceira linha, a da segunda coluna está na oitava linha e assim em diante.\n",
    "\n",
    "Essa codificação é prática e eficiente para esse problema, pois reduz o espaço e busca ao garantir que exista sempre exatamente uma rainha em cada linha e coluna. isso permite que o processo de busca foque apenas em remover as colisões diagonais. Entretanto, é preciso garantir que permutações válidas sejam mantidas após realizar qualquer operação ao longo da execução do algoritmo.\n",
    "\n",
    "### Função de fitness\n",
    "\n",
    "Conforme dito, a codificação das soluções já garante que exista apenas uma rainha em cada linha e coluna. Dessa forma, a função de fitness desenvolvida tem o objetivo de contabilizar a quantidade de colisões diagonais que ocorrem na solução candidata. A função de fitness calcula a quantidade de colisões na diagonal do indivíduo.\n",
    "\n",
    "Um contador de colisões é criado com valor inicial 0 e é incrementado sempre que a diferença entre o número de linhas e de colunas entre duas rainhas são iguais. Dada uma solução $x$, seu valor é calculado por \n",
    "\n",
    "\\begin{align*}\n",
    "    |x_i - x_j| = j-i \\quad \\quad \\forall i \\in [1,..,N-1] \\quad  \\forall j \\in [i+1,..,N]\n",
    "\\end{align*}\n",
    "\n",
    "No exemplo do indivíduo $x = $ \\[3, 8, 5, 1, 2, 7, 4, 6\\], as rainhas das colunas 1 e 3 se encontram nas linhas 3 e 5, respectivamente. Considerando apenas essas duas rainhas, a diferença entre as linhas é $|3 - 5| = 2$ e entre colunas $|1 - 3| = 2$, indicando que há uma colisão. \n",
    "\n",
    "Essas colisões são somadas para cada par de colunas e o valor acumulado é retornado como fitness da solução. "
   ]
  },
  {
   "cell_type": "code",
   "execution_count": 2,
   "metadata": {},
   "outputs": [],
   "source": [
    "# Função de cálculo do fitness\n",
    "def fitness(x):\n",
    "    collisions = 0 # conta o número de colisões\n",
    "    n = len(x)\n",
    "    # compara as distância entre as linhas e colunas. A igualdade nos valores indica um movimento diagonal válido\n",
    "    for i in range(n-1):\n",
    "        for j in range(i+1,n):\n",
    "            if np.abs(x[j]-x[i]) == j-i:\n",
    "                collisions += 1\n",
    "    \n",
    "    return collisions    "
   ]
  },
  {
   "cell_type": "markdown",
   "metadata": {},
   "source": [
    "### Seleção para cruzamento\n",
    "\n",
    "Os indivíduos são selecionados para cruzamento a partir da seleção por torneio. Nele, duas soluções são escolhidas aleatoriamente e a de melhor fitness é selecionada. Caso o fitness das duas soluções seja idêntico, uma solução aleatória é escolhida."
   ]
  },
  {
   "cell_type": "code",
   "execution_count": 3,
   "metadata": {},
   "outputs": [],
   "source": [
    "def tournament(x1, x2):\n",
    "    # calcula o fitness dos candidatos\n",
    "    f1 = fitness(x1)\n",
    "    f2 = fitness(x2)\n",
    "    \n",
    "    # retorna o candidato 1 se ele tiver melhor fitness\n",
    "    if f1 < f2:\n",
    "        return x1\n",
    "    \n",
    "    # retorna o candidato 2 se ele tiver melhor fitness\n",
    "    if f1 > f2:\n",
    "        return x2\n",
    "    \n",
    "    # se nenhum tiver melhor fitness, retorna um candidato aleatório\n",
    "    if np.random.randint(2):\n",
    "        return x1\n",
    "    return x2"
   ]
  },
  {
   "cell_type": "markdown",
   "metadata": {},
   "source": [
    "### Cruzamento dos indivíduos selecionados\n",
    "\n",
    "Após a seleção de um par de indivíduos, chamados pais, um operador de cruzamento é utilizado para combiná-los e gerar dois novos indivíduos, chamados filhos.\n",
    "\n",
    "Para esse problema o método selecionado para cruzamento foi o *Partially Mapped Crossover*(PMX). Esse método cria dois pontos de corte aleatórios nos vetores de solução e os valores entre os pontos de corte são invertidos.\n",
    "\n",
    "Dados os pais $p_1$ e $p_2$\n",
    "\n",
    "\\begin{align*}\n",
    "    p_1 = [1 2 3 | 4 5 6 | 7 8] \\\\\n",
    "    p_2 = [3 8 5 | 1 2 6 | 4 7]\n",
    "\\end{align*}\n",
    "\n",
    "Os filhos $c_1$ e $c_2$ são gerados\n",
    "\n",
    "\\begin{align*}\n",
    "    c_1 = [1 2 3 | 1 2 6 | 7 8] \\\\\n",
    "    c_2 = [3 8 5 | 4 5 6 | 4 7]\n",
    "\\end{align*}\n",
    "\n",
    "Ao realizar esse procedimento, alguns valores nos filhos ficam duplicados, enquanto outros são removidos. No filho $c_1$, por exemplo, os valores $1$ e $2$ estão duplicados e os valores $4$ e $5$ não estão presentes. Isso viola as restrições do vetor de permutações, indicando que há quatro rainhas nas linhas 1 e 2, mas nenhuma nas linhas 4 e 5.\n",
    "\n",
    "Para solucionar o problema, existe um passo corretivo no PMX que substitui os valores duplicados pelos faltantes. Para cada valor duplicado, identifica-se o índice dentro do sub-vetor de solução compreendido entre os pontos de corte onde aquele valor aparece no pai. No caso do valor 1 de $c_1$, a repetição se encontra na primeira posição do sub-vetor de $p_2$. Checa-se então qual o valor correspondente no outro indivíduo pai, no caso o valor 4 de $p_1$ se encontra no mesmo índice do valor 1 de $p_2$. Caso o valor encontrado seja um dos faltantes no filho, o valor repetido é substituído. Caso contrário, esse passo é repetido.\n",
    "\n",
    "Ao final das correções, os seguintes filhos são obtidos\n",
    "\n",
    "\\begin{align*}\n",
    "    c_1 = [4 5 3 | 1 2 6 | 7 8] \\\\\n",
    "    c_2 = [3 8 1 | 4 5 6 | 2 7]\n",
    "\\end{align*}"
   ]
  },
  {
   "cell_type": "code",
   "execution_count": 4,
   "metadata": {},
   "outputs": [],
   "source": [
    "# função de crossover Partially Mapped Crossover\n",
    "def PMX(x1, x2):\n",
    "    # pontos de corte\n",
    "    c1 = np.random.randint(0,N-2)\n",
    "    c2 = np.random.randint(c1+1,N)\n",
    "    \n",
    "    # parte intermediária\n",
    "    mid1 = x1[c1:c2]\n",
    "    mid2 = x2[c1:c2]\n",
    "    \n",
    "    # criação dos filhos\n",
    "    child1 = np.concatenate((x1[:c1], mid2, x1[c2:]))\n",
    "    child2 = np.concatenate((x2[:c1], mid1, x2[c2:]))\n",
    "    \n",
    "    # correção das repetições antes do primeiro ponto de corte\n",
    "    for pos in range(c1):\n",
    "        # correções no 1o filho\n",
    "        temp = child1[pos]\n",
    "        id = mid2 == temp\n",
    "        while any(id):\n",
    "            temp = mid1[id][0]\n",
    "            id = mid2 == temp\n",
    "        child1[pos] = temp\n",
    "\n",
    "        # correções no 2o filho\n",
    "        temp = child2[pos]\n",
    "        id = mid1 == temp\n",
    "        while any(id):\n",
    "            temp = mid2[id][0]\n",
    "            id = mid1 == temp\n",
    "        child2[pos] = temp\n",
    "\n",
    "    # correção das repetições após o segundo ponto de corte\n",
    "    for pos in range(c2,N):\n",
    "        # correções no 1o filho\n",
    "        temp = child1[pos]\n",
    "        id = mid2 == temp\n",
    "        while any(id):\n",
    "            temp = mid1[id][0]\n",
    "            id = mid2 == temp\n",
    "        child1[pos] = temp\n",
    "\n",
    "        # correções no 2o filho\n",
    "        temp = child2[pos]\n",
    "        id = mid1 == temp\n",
    "        while any(id):\n",
    "            temp = mid2[id][0]\n",
    "            id = mid1 == temp\n",
    "        child2[pos] = temp\n",
    "        \n",
    "    return child1, child2"
   ]
  },
  {
   "cell_type": "markdown",
   "metadata": {},
   "source": [
    "### Mutação dos indivíduos gerados\n",
    "\n",
    "A mutação altera as posições de duas rainhas aleatórias no vetor solução. Isso significa dizer que duas rainhas trocam as linhas que ocupam, mantendo as colunas.\n",
    "\n",
    "Toda vez que um indivíduo é gerado, ele tem uma chance $p_m$ de sofrer mutação."
   ]
  },
  {
   "cell_type": "code",
   "execution_count": 5,
   "metadata": {},
   "outputs": [],
   "source": [
    "def mutation(x):\n",
    "    # pontos de troca\n",
    "    p1 = np.random.randint(0,N-2)\n",
    "    p2 = np.random.randint(p1+1,N)\n",
    "    \n",
    "    # troca as posições\n",
    "    x[p1], x[p2] = x[p2], x[p1]\n",
    "    return x"
   ]
  },
  {
   "cell_type": "markdown",
   "metadata": {},
   "source": [
    "### Algoritmo de solução\n",
    "\n",
    "Após definir todos os operadores, o fluxo completo do algoritmo genético pode ser descrito.\n",
    "\n",
    "A primeira etapa consiste em gerar a população inicial de tamanho $popSize$ a partir de permutações aleatórias de oito inteiros. O fitness de cada indivíduo é calculado e o melhor é armazenado como melhor solução.\n",
    "\n",
    "Com a população inicial pronta o *loop* principal do algoritmo é executado até que o limite de gerações seja alcançado ou seja gerado um indivíduo sem colisões. O *loop* é composto basicamente pela geração da nova população e substituição da população anterior. Para gerar novos indivíduos, são executadas as seguintes etapas:\n",
    "\n",
    "1. Selecionar dois pais aleatoriamente realizando duas seleções por torneio;\n",
    "2. Gerar dois novos indivíduos a partir do cruzamento dos pais com chance $p_c$. Caso o cruzamento não ocorra, o par de pais é passado para a próxima geração;\n",
    "3. Aplicar mutação em cada um dos dois indivíduos com chance $p_m$;\n",
    "4. Calcular o fitness dos novos indivíduos;\n",
    "5. Checar se algum dos indivíduos gerados se tornou o melhor indivíduo.\n",
    "\n",
    "Esse processo é repetido até que $popSize$ indivíduos sejam gerados. Então, ocorre a substituição da população anterior pela nova e o algoritmo para a geração seguinte.\n"
   ]
  },
  {
   "cell_type": "code",
   "execution_count": 6,
   "metadata": {},
   "outputs": [],
   "source": [
    "def GA(popSize, maxGen):\n",
    "    # armazenamento da melhor solução\n",
    "    bestInd = []\n",
    "    bestFx = N*(N-1)/2+1\n",
    "\n",
    "    # criação da população inicial aleatória\n",
    "    population = np.zeros([popSize, N])\n",
    "    Fx = np.zeros(popSize)\n",
    "    for i in range(popSize):\n",
    "        population[i,] = np.random.permutation(range(1,N+1))\n",
    "        Fx[i] = fitness(population[i,])\n",
    "\n",
    "        # checa se o indivíduo criado possui fitness melhor que o melhor indivíduo\n",
    "        if Fx[i] < bestFx:\n",
    "            bestInd = population[i,]\n",
    "            bestFx = Fx[i]\n",
    "\n",
    "    # armazenamento do histórico de melhor solução\n",
    "    fxHist = np.array([bestFx])\n",
    "    t = time.time()\n",
    "\n",
    "    for gen in range(maxGen):\n",
    "        if bestFx == 0:\n",
    "            break\n",
    "\n",
    "        children = np.zeros([popSize, N])\n",
    "        childrenFx = np.zeros(popSize)\n",
    "        for i in range(math.floor(popSize/2)):\n",
    "            # seleção dos pais por torneio\n",
    "            p1 = tournament(population[np.random.randint(popSize),], population[np.random.randint(popSize),])\n",
    "            p2 = tournament(population[np.random.randint(popSize),], population[np.random.randint(popSize),])\n",
    "\n",
    "            # cruzamento para geração dos filhos\n",
    "            if np.random.rand() < pc:\n",
    "                c1, c2 = PMX(p1,p2)\n",
    "            else:\n",
    "                c1 = p1\n",
    "                c2 = p2\n",
    "\n",
    "            # mutação em cada filho\n",
    "            if np.random.rand() < pm:\n",
    "                c1 = mutation(c1)\n",
    "            if np.random.rand() < pm:\n",
    "                c2 = mutation(c2)\n",
    "\n",
    "            # calcula o fitness dos filhos\n",
    "            childrenFx[2*i] = fitness(c1)\n",
    "            childrenFx[2*i+1] = fitness(c2)\n",
    "\n",
    "            # checa se o fitness dos novos indivíduos gerados é melhor que o melhor atual\n",
    "            if childrenFx[2*i] < bestFx:\n",
    "                bestInd = c1\n",
    "                bestFx = childrenFx[2*i]\n",
    "            if childrenFx[2*i+1] < bestFx:\n",
    "                bestInd = c2\n",
    "                bestFx = childrenFx[2*i+1]\n",
    "\n",
    "            # adiciona os dois filhos gerados na população de filhos\n",
    "            children[2*i,] = c1\n",
    "            children[2*i+1,] = c2\n",
    "\n",
    "        # substitui a geração anterios com os filhos gerados\n",
    "        population = children\n",
    "        Fx = childrenFx\n",
    "\n",
    "        # agrega melhor solução ao histórico\n",
    "        fxHist = np.append(fxHist, bestFx)\n",
    "    return (bestInd, bestFx, fxHist, gen+1, time.time() - t)\n"
   ]
  },
  {
   "cell_type": "markdown",
   "metadata": {},
   "source": [
    "### Execução do algoritmo\n",
    "\n",
    "O algoritmo foi executado considerando os seguintes parâmetros:\n",
    "\n",
    "- Número de rainhas *N*: 8\n",
    "- Tamanho da população: 100\n",
    "- Número máximo de gerações: 100\n",
    "- Probabilidade de cruzamento $p_c$: 90%\n",
    "- Probabilidade de mutação $p_m$: 20%"
   ]
  },
  {
   "cell_type": "code",
   "execution_count": 7,
   "metadata": {},
   "outputs": [
    {
     "name": "stdout",
     "output_type": "stream",
     "text": [
      "Tempo de solução: 0.03240966796875\n",
      "Melhor indivíduo: [5. 1. 8. 4. 2. 7. 3. 6.]\n",
      "Melhor fitness: 0.0\n",
      "Número de gerações: 3\n"
     ]
    },
    {
     "data": {
      "text/plain": [
       "[<matplotlib.lines.Line2D at 0x7f2d1b78fa90>]"
      ]
     },
     "execution_count": 7,
     "metadata": {},
     "output_type": "execute_result"
    },
    {
     "data": {
      "image/png": "[encoded data removed]",
      "text/plain": [
       "<Figure size 432x288 with 1 Axes>"
      ]
     },
     "metadata": {
      "needs_background": "light"
     },
     "output_type": "display_data"
    }
   ],
   "source": [
    "# definição dos parâmetros\n",
    "N = 8 # dimensão do problema\n",
    "popSize = 100 # número de indivíduos\n",
    "maxGen = 100 # número de gerações\n",
    "pc = 0.9 # probabilidade de cruzamento\n",
    "pm = 0.2 # probabilidade de mutação\n",
    "\n",
    "(bestInd, bestFx, fxHist, gen, timeSol) = GA(popSize, maxGen)\n",
    "\n",
    "print('Tempo de solução: {}'.format(timeSol))\n",
    "print('Melhor indivíduo: {}'.format(bestInd))\n",
    "print('Melhor fitness: {}'.format(bestFx))\n",
    "print('Número de gerações: {}'.format(gen))\n",
    "plt.plot(range(1,gen+1),fxHist)"
   ]
  },
  {
   "cell_type": "markdown",
   "metadata": {},
   "source": [
    "### Análise dos resultados\n",
    "\n",
    "O algoritmo convergiu rapidamente para uma solução onde não houvesse colisões. Então, o algoritmo foi executado 20 vezes:"
   ]
  },
  {
   "cell_type": "code",
   "execution_count": 8,
   "metadata": {},
   "outputs": [
    {
     "name": "stdout",
     "output_type": "stream",
     "text": [
      "Máximo de colisões: 0.0\n",
      "Média de gerações: 4.0\n",
      "Tempo de execução médio: 0.04894888401031494\n"
     ]
    },
    {
     "data": {
      "text/plain": [
       "[<matplotlib.lines.Line2D at 0x7f2d1b7307f0>]"
      ]
     },
     "execution_count": 8,
     "metadata": {},
     "output_type": "execute_result"
    },
    {
     "data": {
      "image/png": "[encoded data removed]",
      "text/plain": [
       "<Figure size 432x288 with 1 Axes>"
      ]
     },
     "metadata": {
      "needs_background": "light"
     },
     "output_type": "display_data"
    }
   ],
   "source": [
    "numRep = 20\n",
    "\n",
    "fx = np.zeros(numRep)\n",
    "gen = np.zeros(numRep)\n",
    "times = np.zeros(numRep)\n",
    "for i in range(numRep):\n",
    "    (_, fx[i], _, gen[i], times[i]) = GA(popSize, maxGen)\n",
    "    \n",
    "print('Máximo de colisões: {}'.format(max(fx)))\n",
    "print('Média de gerações: {}'.format(np.mean(gen)))\n",
    "print('Tempo de execução médio: {}'.format(np.mean(times)))\n",
    "\n",
    "plt.plot(range(1,numRep+1),gen)"
   ]
  },
  {
   "cell_type": "markdown",
   "metadata": {},
   "source": [
    "Os resultados obtidos mostram que na média o algoritmo foi capaz de encontrar uma solução ótima em menos de 10 gerações e em poucos milisegundos.\n",
    "\n",
    "A codificação por permutação utilizada auxiliou nesse resultado, pois ela limitou bastante o espaço de busca ao proibir a alocação de duas rainhas na mesma linha/coluna."
   ]
  },
  {
   "cell_type": "markdown",
   "metadata": {},
   "source": [
    "## Função de Rastrigin\n",
    "\n",
    "A função de Rastrigin é uma função não convexa usada para avaliar a performance de algoritmos de otimização. Ela é definida por\n",
    "\n",
    "\\begin{align*}\n",
    "    f(x) = 10n + \\sum\\limits_i=1^n \\left( x_i^2 - 10~cos(2 \\pi x_i) \\right)\n",
    "\\end{align*}\n",
    "\n",
    "onde $n$ é o número de variáveis do problema. O valor mínimo dessa função é zero, que ocorre quando $x_i = 0,~ i = 1,..,n$ e o objetivo do problema é encontrar essa solução.\n",
    "\n",
    "Um algoritmo genético com codificação binária foi desenvolvido para resolver o problema considerando $n = 10$ variáveis com $x_i \\in [-5.12, 5.12]$.\n",
    "\n",
    "### Codificação da solução\n",
    "\n",
    "Cada variável do problema é formada por uma sequência de $l$ bits. Para garantir que os valores binários permaneçam sempre dentro do intervalo válido quando convertidos para um valor real, a seguinte expressão foi utilizada:\n",
    "\n",
    "\\begin{align*}\n",
    "    x = L + (U - L) \\frac{\\sum\\limits_{i=1}^l b_i 2^{l-i}}{2^l-1}\n",
    "\\end{align*}\n",
    "\n",
    "onde $L$ e $U$ são os limites inferior e superior do intervalo, respectivamente.\n",
    "\n",
    "Quanto maior o valor de $l$, maior a precisão da codificação, pois menor é o intervalo entre dois valores consecutivos.\n",
    "\n",
    "Um indivíduo do algoritmo é composto então por um vetor binário com $n \\times l$ posições, sendo que cada bloco de $l$ bits corresponde à uma variável do problema.\n",
    "\n",
    "Outra codificação possível para esse problema é a Gray, onde a diferença entre dois números consecutivos é de apenas um bit.\n",
    "\n",
    "Funções para conversão de binário para real e gray para real foram desenvolvidas para calcular o valor da função de Rastrigin."
   ]
  },
  {
   "cell_type": "code",
   "execution_count": 9,
   "metadata": {},
   "outputs": [],
   "source": [
    "# converte a codificação binária em um número real dentro do intervalo\n",
    "def bin2real(b):\n",
    "    d = sum(b[i]*2**(l-i-1) for i in range(l))\n",
    "    return xmin + (xmax-xmin)*d/(2**l-1)\n",
    "\n",
    "# converte a codificação gray em binário\n",
    "def gray2bin(g):\n",
    "    b = np.zeros(len(g))\n",
    "    b[0] = g[0]\n",
    "    for i in range(1,len(g)):\n",
    "        b[i] = g[i] != b[i-1]\n",
    "    return b\n",
    "\n",
    "# converte a codificação gray em um número real dentro do intervalo\n",
    "def gray2real(g):\n",
    "    return bin2real(gray2bin(g))"
   ]
  },
  {
   "cell_type": "markdown",
   "metadata": {},
   "source": [
    "### Função de fitness\n",
    "\n",
    "A função de fitness do problema é dada pela função de Rastrigin, que possui valor mínimo zero quando $x = 0$. \n",
    "\n",
    "Para calcular esse valor, uma solução binária com $n$ variáveis de $l$ posições é quebrada em $n$ vetores, e cada vetor é convertido em número real. Então, os $n$ valores reais são usados para o calculo da função de Rastrigin. Quanto menor seu valor, maior o fitness."
   ]
  },
  {
   "cell_type": "code",
   "execution_count": 10,
   "metadata": {},
   "outputs": [],
   "source": [
    "# calcula o valor da função de Rastrigin para o conjunto de variáveis passadas\n",
    "def fitness(b):\n",
    "    d = b.reshape((n,l)) # quebra o vetor binário colocando uma variável por linha\n",
    "    x = [bin2real(d[i,]) for i in range(n)] # converte cada variável para o valor real\n",
    "    \n",
    "    # retorna o valor da função\n",
    "    return 10*n + sum(x[i]**2 - 10*math.cos(2*math.pi*x[i]) for i in range(n))"
   ]
  },
  {
   "cell_type": "markdown",
   "metadata": {},
   "source": [
    "### Cruzamento\n",
    "\n",
    "O operador de cruzamento utilizado é o corte com um ponto por variável. Para cada variável, um ponto de corte é determinado aleatoriamente e então, a partir de um par de pais, dois filhos são gerados. O primeiro filho é composto pela primeira parte do primeiro pai e a segunda parte do segundo pai. O outro indivíduo é formado pela primeira parte do segundo pai e a segunda parte do primeiro pai."
   ]
  },
  {
   "cell_type": "code",
   "execution_count": 11,
   "metadata": {},
   "outputs": [],
   "source": [
    "def crossover(p1,p2):\n",
    "    # define os pontos de corte para cada variável\n",
    "    cuts = np.random.randint(l, size=n)\n",
    "    \n",
    "    # cria cada variável de cada filho  cruzando os pais a partir do ponto de corte\n",
    "    c1 = np.concatenate(tuple([np.concatenate((p1[l*i:l*i+cuts[i]], p2[l*i+cuts[i]:l*(i+1)])) for i in range(n)]))\n",
    "    c2 = np.concatenate(tuple([np.concatenate((p2[l*i:l*i+cuts[i]], p1[l*i+cuts[i]:l*(i+1)])) for i in range(n)]))\n",
    "    return (c1, c2)"
   ]
  },
  {
   "cell_type": "markdown",
   "metadata": {},
   "source": [
    "### Seleção de pais\n",
    "\n",
    "Nesse trabalho dois operadores de seleção são usados, ambos com 50% de probabilidade:\n",
    "\n",
    "1. Torneio, o mesmo procedimento utilizado no problema das $N$ rainhas. \n",
    "\n",
    "2. Roleta, onde um indivíduo é selecionado aleatoriamente com probabilidade proporcional ao fitness. Como nesse problema o menor valor é aquele de maior fitness, foi considerado $\\frac{1}{f(x)}$ no cálculo das proporções"
   ]
  },
  {
   "cell_type": "code",
   "execution_count": 12,
   "metadata": {},
   "outputs": [],
   "source": [
    "# seleção por roleta\n",
    "def roulette(fx):\n",
    "    fx = 1/fx\n",
    "    totalFitness = sum(fx) # somatório do fitness de todos os indivíduos\n",
    "    randomNumber = np.random.rand() # número aleatório no intervalo [0,1] usado na escolha\n",
    "    lowerBound = 0\n",
    "    # testa se o número aleatório está na faixa de cada solução\n",
    "    for i in range(len(fx)):\n",
    "        lowerBound += fx[i]/totalFitness\n",
    "        if randomNumber < lowerBound:\n",
    "            return i"
   ]
  },
  {
   "cell_type": "markdown",
   "metadata": {},
   "source": [
    "## Função de mutação\n",
    "\n",
    "A função de mutação utilizada para o problema foi o *bit-flip*, onde cada bit da solução tem uma probabilidade $p_m$ de inverter o valor.\n",
    "\n",
    "Com a codificação binária esse operador pode causar uma grande variação do valor das variáveis, pois uma inversão em uma ordem elevada do vetor causa grande variação no valor binário. Isso dificulta o processo de convergência, mas auxilia na fuga de mínimos locais.\n",
    "\n",
    "Já com codificação Gray a mutação é mais conservadora, pois a inversão de um bit significa aumentar ou diminuir o valor da codificação em uma unidade. Isso tende a auxiliar na convergência, porém não é muito eficaz para fugir de mínimos locais."
   ]
  },
  {
   "cell_type": "code",
   "execution_count": 13,
   "metadata": {},
   "outputs": [],
   "source": [
    "# mutação por bitflip em cada posição\n",
    "def mutation(x):\n",
    "    for i in range(len(x)):\n",
    "        if np.random.rand() < pm:\n",
    "            x[i] = int(not x[i])\n",
    "    return x"
   ]
  },
  {
   "cell_type": "markdown",
   "metadata": {},
   "source": [
    "### Algoritmo de solução\n",
    "\n",
    "O algoritmo usado para resolver esse problema é semelhante ao usado no problema das rainhas, seguindo a mesma sequência de passos, com pequenas diferenças. A primeira diferença está na seleção dos pais, que pode ser por torneio ou roleta. A segunda é que existe um limite no número de avaliações da função objetivo, então é preciso checar a cada iteração se esse limite foi atingido."
   ]
  },
  {
   "cell_type": "code",
   "execution_count": 14,
   "metadata": {},
   "outputs": [],
   "source": [
    "def GA(popSize, maxGen):\n",
    "    # criação da população inicial aleatória\n",
    "    population = np.random.randint(2, size=(popSize,n*l))\n",
    "    Fx = np.array([fitness(population[i,]) for i in range(popSize)])  \n",
    "    numEval = popSize\n",
    "\n",
    "    # armazenamento da melhor solução\n",
    "    bestFx = min(Fx)\n",
    "    bestInd = population[min(Fx) == Fx,][0]\n",
    "\n",
    "    # armazenamento do histórico de melhor solução\n",
    "    fxHist = np.array([bestFx])\n",
    "    t = time.time()\n",
    "\n",
    "    for gen in range(maxGen):\n",
    "        if bestFx < 1e-2 or numEval >= maxEval:\n",
    "            break\n",
    "\n",
    "        children = np.zeros([popSize, n*l])\n",
    "        childrenFx = np.zeros(popSize)\n",
    "\n",
    "        for i in range(math.floor(popSize/2)):\n",
    "            # seleção dos pais por torneio (50%) ou roleta (50%)\n",
    "            if np.random.rand() < 0.5:\n",
    "                p1 = tournament(population[np.random.randint(popSize),], population[np.random.randint(popSize),])\n",
    "            else:\n",
    "                p1 = population[roulette(Fx),]\n",
    "            if np.random.rand() < 0.5:\n",
    "                p2 = tournament(population[np.random.randint(popSize),], population[np.random.randint(popSize),])\n",
    "            else:\n",
    "                p2 = population[roulette(Fx),]\n",
    "\n",
    "            # cruzamento para geração dos filhos\n",
    "            if np.random.rand() < pc:\n",
    "                c1, c2 = crossover(p1,p2)\n",
    "            else:\n",
    "                c1 = p1\n",
    "                c2 = p2\n",
    "\n",
    "            # mutação em cada filho\n",
    "            if np.random.rand() < pm:\n",
    "                c1 = mutation(c1)\n",
    "            if np.random.rand() < pm:\n",
    "                c2 = mutation(c2)\n",
    "\n",
    "            # calcula o fitness dos filhos\n",
    "            childrenFx[2*i] = fitness(c1)\n",
    "            childrenFx[2*i+1] = fitness(c2)\n",
    "            numEval += 2\n",
    "\n",
    "            # checa se o fitness dos novos indivíduos gerados é melhor que o melhor atual\n",
    "            if childrenFx[2*i] < bestFx:\n",
    "                bestInd = c1\n",
    "                bestFx = childrenFx[2*i]\n",
    "            if childrenFx[2*i+1] < bestFx:\n",
    "                bestInd = c2\n",
    "                bestFx = childrenFx[2*i+1]\n",
    "\n",
    "            # adiciona os dois filhos gerados na população de filhos\n",
    "            children[2*i,] = c1\n",
    "            children[2*i+1,] = c2\n",
    "\n",
    "        # substitui a geração anterios com os filhos gerados\n",
    "        population = children\n",
    "        Fx = childrenFx\n",
    "\n",
    "        # agrega melhor solução ao histórico\n",
    "        fxHist = np.append(fxHist, bestFx)\n",
    "    return (bestInd, bestFx, fxHist, gen+1, time.time() - t)"
   ]
  },
  {
   "cell_type": "markdown",
   "metadata": {},
   "source": [
    "### Execução do algoritmo\n",
    "\n",
    "O algoritmo foi executado considerando os seguintes parâmetros:\n",
    "\n",
    "- Número de variáveis: 10\n",
    "- Número de bits da variável: 20\n",
    "- Intervalo da variáveis [-5.12, 5.12]\n",
    "- Tipo de codificação: binária\n",
    "- Tamanho da população: 100\n",
    "- Número máximo de gerações: 100\n",
    "- Máximo de avaliações de fitness: 10000\n",
    "- Probabilidade de cruzamento $p_c$: 90%\n",
    "- Probabilidade de mutação $p_m$: 10%"
   ]
  },
  {
   "cell_type": "code",
   "execution_count": 15,
   "metadata": {},
   "outputs": [
    {
     "name": "stdout",
     "output_type": "stream",
     "text": [
      "Tempo de solução: 3.861778736114502\n",
      "Melhor indivíduo codificado: [0. 1. 0. 0. 1. 1. 0. 1. 1. 1. 1. 0. 1. 0. 0. 0. 1. 1. 0. 1. 0. 1. 1. 1.\n",
      " 1. 1. 1. 1. 0. 0. 1. 0. 1. 0. 1. 0. 0. 1. 1. 0. 0. 1. 1. 0. 1. 0. 0. 0.\n",
      " 0. 0. 0. 1. 0. 1. 0. 1. 1. 0. 1. 0. 1. 0. 0. 0. 0. 0. 0. 0. 1. 0. 0. 0.\n",
      " 0. 0. 0. 1. 0. 0. 1. 0. 1. 0. 0. 1. 0. 1. 1. 0. 1. 1. 1. 0. 1. 0. 0. 1.\n",
      " 0. 0. 1. 1. 1. 0. 0. 0. 0. 0. 0. 0. 0. 1. 0. 1. 1. 1. 1. 0. 1. 0. 1. 1.\n",
      " 1. 0. 0. 1. 1. 0. 0. 0. 1. 1. 0. 1. 1. 0. 0. 1. 0. 0. 1. 0. 0. 1. 0. 0.\n",
      " 1. 1. 0. 1. 1. 1. 1. 1. 0. 0. 1. 0. 1. 0. 0. 0. 1. 0. 0. 0. 0. 0. 0. 0.\n",
      " 0. 1. 0. 0. 1. 1. 0. 1. 0. 1. 1. 0. 0. 1. 1. 0. 0. 1. 1. 1. 1. 0. 0. 0.\n",
      " 1. 1. 1. 1. 0. 0. 0. 1.]\n",
      "Melhor indivíduo real: [-2.0036200748635054, -0.03337405526547954, -0.9566171232386811, 0.020180683308299585, 0.9164413036740342, 0.014799818801706444, 0.9939316119495505, -2.0021064015449537, 0.012094738096941171, -0.9776425339150752]\n",
      "Melhor fitness: 13.920162777204283\n",
      "Número de gerações: 100\n"
     ]
    },
    {
     "data": {
      "text/plain": [
       "[<matplotlib.lines.Line2D at 0x7f2d1b6a5be0>]"
      ]
     },
     "execution_count": 15,
     "metadata": {},
     "output_type": "execute_result"
    },
    {
     "data": {
      "image/png": "[encoded data removed]",
      "text/plain": [
       "<Figure size 432x288 with 1 Axes>"
      ]
     },
     "metadata": {
      "needs_background": "light"
     },
     "output_type": "display_data"
    }
   ],
   "source": [
    "# definição dos parâmetros\n",
    "n = 10 # número de variáveis\n",
    "l = 20 # tamanho da palavra\n",
    "xmin = -5.12 # limite inferior de x\n",
    "xmax = 5.12 # limite superior de x\n",
    "popSize = 100 # número de indivíduos\n",
    "maxGen = 100 # número de gerações\n",
    "maxEval = 10000 # número máximo de avaliações de FO\n",
    "pc = 0.9 # probabilidade de cruzamento\n",
    "pm = 0.1 # probabilidade de mutação\n",
    "\n",
    "(bestInd, bestFx, fxHist, gen, timeSol) = GA(popSize, maxGen)\n",
    "\n",
    "print('Tempo de solução: {}'.format(timeSol))\n",
    "print('Melhor indivíduo codificado: {}'.format(bestInd))\n",
    "b = bestInd.reshape((n,l))\n",
    "d = [bin2real(b[i,]) for i in range(n)]\n",
    "print('Melhor indivíduo real: {}'.format(d))\n",
    "print('Melhor fitness: {}'.format(bestFx))\n",
    "print('Número de gerações: {}'.format(gen))\n",
    "plt.plot(range(1,gen+1),fxHist)"
   ]
  },
  {
   "cell_type": "markdown",
   "metadata": {},
   "source": [
    "### Análise dos resultados\n",
    "\n",
    "A execução do algoritmo mostra que a solução está convergindo para o ótimo global, mas após o limite de avaliações de fitness ainda não foi possível alcançar o valor ótimo. \n",
    "\n",
    "Com o objetivo de avaliar a consistência do algoritmo, ele foi executado 20 vezes:"
   ]
  },
  {
   "cell_type": "code",
   "execution_count": 16,
   "metadata": {},
   "outputs": [
    {
     "name": "stdout",
     "output_type": "stream",
     "text": [
      "Fitness médio: 13.531565797892256\n",
      "Melhor fitness: 5.121911780952615\n",
      "Pior fitness: 21.618176098736797\n",
      "Média de gerações: 100.0\n",
      "Tempo de execução médio: 3.8245591640472414\n"
     ]
    },
    {
     "data": {
      "image/png": "[encoded data removed]",
      "text/plain": [
       "<Figure size 432x288 with 1 Axes>"
      ]
     },
     "metadata": {
      "needs_background": "light"
     },
     "output_type": "display_data"
    }
   ],
   "source": [
    "numRep = 20\n",
    "\n",
    "fx = np.zeros(numRep)\n",
    "gen = np.zeros(numRep)\n",
    "times = np.zeros(numRep)\n",
    "for i in range(numRep):\n",
    "    (_, fx[i], _, gen[i], times[i]) = GA(popSize, maxGen)\n",
    "    \n",
    "print('Fitness médio: {}'.format(np.mean(fx)))\n",
    "print('Melhor fitness: {}'.format(np.min(fx)))\n",
    "print('Pior fitness: {}'.format(np.max(fx)))\n",
    "print('Média de gerações: {}'.format(np.mean(gen)))\n",
    "print('Tempo de execução médio: {}'.format(np.mean(times)))\n",
    "\n",
    "p = plt.boxplot(fx)"
   ]
  },
  {
   "cell_type": "markdown",
   "metadata": {},
   "source": [
    "Os resultados mostram que o algoritmo não apresentou muita variação na convergência. Não houve muita variação no melhor fitness obtido e todas as execuções atingiram valores relativamente próximos do ótimo global. Além disso, todas asa execuções tiveram tempo de execução semelhante.\n",
    "\n",
    "Dois fatores que podem influenciar na qualidade da solução são a quantidade de bits usados para representar uma variável e a codificação Gray. As duas alterações foram avaliadas.\n",
    "\n",
    "### Mudança do tamanho da palavra $l$\n",
    "\n",
    "O aumento do número de bits usados para representar uma variável aumenta a precisão do modelo, podendo auxiliar na qualidade da solução. Entretanto, essa alteração aumenta também a complexidade computacional, elevando o tempo médio de solução.\n",
    "\n",
    "O tamanho da palavra foi aumentado para $l=50$ e os testes foram executados novamente."
   ]
  },
  {
   "cell_type": "code",
   "execution_count": 18,
   "metadata": {},
   "outputs": [
    {
     "name": "stdout",
     "output_type": "stream",
     "text": [
      "Fitness médio: 17.937475157691658\n",
      "Melhor fitness: 7.6436261475073195\n",
      "Pior fitness: 29.408999898173306\n",
      "Média de gerações: 100.0\n",
      "Tempo de execução médio: 8.49681715965271\n"
     ]
    },
    {
     "data": {
      "image/png": "[encoded data removed]",
      "text/plain": [
       "<Figure size 432x288 with 1 Axes>"
      ]
     },
     "metadata": {
      "needs_background": "light"
     },
     "output_type": "display_data"
    }
   ],
   "source": [
    "l = 50\n",
    "\n",
    "fx = np.zeros(numRep)\n",
    "gen = np.zeros(numRep)\n",
    "times = np.zeros(numRep)\n",
    "for i in range(numRep):\n",
    "    (_, fx[i], _, gen[i], times[i]) = GA(popSize, maxGen)\n",
    "    \n",
    "print('Fitness médio: {}'.format(np.mean(fx)))\n",
    "print('Melhor fitness: {}'.format(np.min(fx)))\n",
    "print('Pior fitness: {}'.format(np.max(fx)))\n",
    "print('Média de gerações: {}'.format(np.mean(gen)))\n",
    "print('Tempo de execução médio: {}'.format(np.mean(times)))\n",
    "\n",
    "p = plt.boxplot(fx)"
   ]
  },
  {
   "cell_type": "markdown",
   "metadata": {},
   "source": [
    "Os resultados mostram que a qualidade da solução não melhorou, porém o tempo computacional médio subiu bastante. Isso significa que essa variação de $l$ não foi benéfica.\n",
    "\n",
    "### Codificação Gray\n",
    "\n",
    "Como discutido anteriormente, a mutação com a codificação Gray gera uma perturbação menor que a binária. Dessa forma, espera-se que a convergência seja melhor.\n",
    "\n",
    "A função de fitness foi alterada para considerar a codificação diferente e os experimentos foram repetidos."
   ]
  },
  {
   "cell_type": "code",
   "execution_count": 19,
   "metadata": {},
   "outputs": [
    {
     "name": "stdout",
     "output_type": "stream",
     "text": [
      "Fitness médio: 12.680076188616985\n",
      "Melhor fitness: 6.734804430137331\n",
      "Pior fitness: 21.8488102592718\n",
      "Média de gerações: 100.0\n",
      "Tempo de execução médio: 6.062768268585205\n"
     ]
    },
    {
     "data": {
      "image/png": "[encoded data removed]",
      "text/plain": [
       "<Figure size 432x288 with 1 Axes>"
      ]
     },
     "metadata": {
      "needs_background": "light"
     },
     "output_type": "display_data"
    }
   ],
   "source": [
    "l = 20\n",
    "\n",
    "# calcula o valor da função de Rastrigin para o conjunto de variáveis passadas\n",
    "def fitness(b):\n",
    "    d = b.reshape((n,l)) # quebra o vetor binário colocando uma variável por linha\n",
    "    x = [gray2real(d[i,]) for i in range(n)] # converte cada variável para o valor real\n",
    "    \n",
    "    # retorna o valor da função\n",
    "    return 10*n + sum(x[i]**2 - 10*math.cos(2*math.pi*x[i]) for i in range(n))\n",
    "\n",
    "fx = np.zeros(numRep)\n",
    "gen = np.zeros(numRep)\n",
    "times = np.zeros(numRep)\n",
    "for i in range(numRep):\n",
    "    (_, fx[i], _, gen[i], times[i]) = GA(popSize, maxGen)\n",
    "    \n",
    "print('Fitness médio: {}'.format(np.mean(fx)))\n",
    "print('Melhor fitness: {}'.format(np.min(fx)))\n",
    "print('Pior fitness: {}'.format(np.max(fx)))\n",
    "print('Média de gerações: {}'.format(np.mean(gen)))\n",
    "print('Tempo de execução médio: {}'.format(np.mean(times)))\n",
    "\n",
    "p = plt.boxplot(fx)"
   ]
  },
  {
   "cell_type": "markdown",
   "metadata": {},
   "source": [
    "Os resultados mostram que a qualidade da solução também não melhorou significativamente com a codificação Gray. Um dos fatores que pode ter influenciado esse resultado foi que a mutação conservadora não foi capaz de fugir de mínimos locais.\n",
    "\n",
    "## Conclusão\n",
    "\n",
    "Um algoritmo genético foi implementado e testado em dois problemas distintos, o problema das *N*-rainhas e a função de Rastrigin.\n",
    "\n",
    "O problema das *N*-rainhas é um problema de satisfação de restrição que foi facilmente resolvido pelo algoritmo. A codificação em permutação utilizada reduziu significativamente o espaço de busca, o que fez com que uma solução válida fosse encontrada com poucas iterações.\n",
    "\n",
    "Já a função de Rastrigin se mostrou desafiadora para os algoritmo implementado. Algumas variações de parâmetros foram testadas e foram obtidos resultados próximos do ótimo global, mas nenhuma combinação foi capaz de encontrar o ponto exato."
   ]
  }
 ],
 "metadata": {
  "kernelspec": {
   "display_name": "Python 3",
   "language": "python",
   "name": "python3"
  },
  "language_info": {
   "codemirror_mode": {
    "name": "ipython",
    "version": 3
   },
   "file_extension": ".py",
   "mimetype": "text/x-python",
   "name": "python",
   "nbconvert_exporter": "python",
   "pygments_lexer": "ipython3",
   "version": "3.7.3"
  }
 },
 "nbformat": 4,
 "nbformat_minor": 2
}
